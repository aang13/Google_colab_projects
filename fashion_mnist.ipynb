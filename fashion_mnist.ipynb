{
  "nbformat": 4,
  "nbformat_minor": 0,
  "metadata": {
    "colab": {
      "name": "fashion_mnist.ipynb",
      "provenance": [],
      "collapsed_sections": [],
      "toc_visible": true,
      "include_colab_link": true
    },
    "kernelspec": {
      "name": "python3",
      "display_name": "Python 3"
    },
    "accelerator": "GPU"
  },
  "cells": [
    {
      "cell_type": "markdown",
      "metadata": {
        "id": "view-in-github",
        "colab_type": "text"
      },
      "source": [
        "<a href=\"https://colab.research.google.com/github/aang13/Google_colab_projects/blob/master/fashion_mnist.ipynb\" target=\"_parent\"><img src=\"https://colab.research.google.com/assets/colab-badge.svg\" alt=\"Open In Colab\"/></a>"
      ]
    },
    {
      "cell_type": "markdown",
      "metadata": {
        "id": "3ip9O815FpDA",
        "colab_type": "text"
      },
      "source": [
        "# Exercise -Automated category classification of clothes images-\n",
        "\n",
        "## Problem setting (Overview)\n",
        "Assuming an EC site in the apparel industry.\n",
        "\n",
        "For product management, category information is attached to the product, but the category information sent from the manufacturer and the category used by the company are different.\n",
        "\n",
        "Currently, the person in charge assigns them to their own category by eye inspection, but due to the increase in the number of partner manufacturers and diversification of products, the time required for the categorization work has increased considerably.\n",
        "\n",
        "As a business, a category is assigned by eye inspection for newly introduced product data, but if it is not clear at a glance, the past information is searched to determine the category. For this reason, man-hours have been spent.\n",
        "\n",
        "Since there is teacher data (Fashion-Mnist) that has been categorized so far, can I use this to automate categorization?\n",
        "\n",
        "\n",
        "## Advanced Setting\n",
        "■ Sales are 50 million yen / month, an up-and-coming EC site\n",
        "\n",
        "■ 4,000 new products are introduced every month\n",
        "\n",
        "■ One person in charge is now doing this work.\n",
        "\n",
        "■ The labor cost for one person in charge is 1 million yen / month\n",
        "\n",
        "■ ** Simple items can be determined in 1 minute for each product ** and executed until finalization\n",
        "\n",
        "However, in the case of ** difficult things **, refer to past products of the same brand,\n",
        "\n",
        "** It takes ** 20 minutes ** per product to remember and search for similar products and determine the final category.\n",
        "\n",
        "\n",
        "\n",
        "## Implementation content\n",
        "Create automatic clothing image classification models using Fashion-Mnist data.\n",
        "\n",
        "The model algorithm is free. You can use what you learned during MNIST, or you can search for and use a different algorithm such as Google search.\n",
        "\n",
        "Create and publish a report (proposal) using the model results.\n",
        "\n",
        "\n",
        "## contents of report\n",
        "Please submit a report in the form proposed to the person in charge at the EC site management company (the person who ordered this project).\n",
        "\n",
        "Please make and announce with PowerPoint.\n",
        "\n",
        "Required contents are as follows. It is okay to include other points of view.\n",
        "\n",
        "■ Definition of problem settings (interpretation)\n",
        "\n",
        "■ About classification models (conditions, model types, verification methods, results, etc.)\n",
        "\n",
        "■ Receiving classification model results and proposing new business using this (flow, UI)\n",
        "\n",
        "■ Estimated effects when starting new business (cost, man-hour creation, business perspective, etc.)"
      ]
    },
    {
      "cell_type": "markdown",
      "metadata": {
        "id": "6KaPbOumeWWN",
        "colab_type": "text"
      },
      "source": [
        "https://www.tensorflow.org/tutorials/keras/classification"
      ]
    },
    {
      "cell_type": "code",
      "metadata": {
        "id": "TdIDPsJfHjwU",
        "colab_type": "code",
        "outputId": "a0a74ee0-0a93-407c-a6fa-734e9d0dbeb2",
        "colab": {
          "base_uri": "https://localhost:8080/",
          "height": 223
        }
      },
      "source": [
        "from keras.datasets import fashion_mnist\n",
        "(x_train, y_train), (x_test, y_test) = fashion_mnist.load_data()"
      ],
      "execution_count": 0,
      "outputs": [
        {
          "output_type": "stream",
          "text": [
            "Using TensorFlow backend.\n"
          ],
          "name": "stderr"
        },
        {
          "output_type": "display_data",
          "data": {
            "text/html": [
              "<p style=\"color: red;\">\n",
              "The default version of TensorFlow in Colab will soon switch to TensorFlow 2.x.<br>\n",
              "We recommend you <a href=\"https://www.tensorflow.org/guide/migrate\" target=\"_blank\">upgrade</a> now \n",
              "or ensure your notebook will continue to use TensorFlow 1.x via the <code>%tensorflow_version 1.x</code> magic:\n",
              "<a href=\"https://colab.research.google.com/notebooks/tensorflow_version.ipynb\" target=\"_blank\">more info</a>.</p>\n"
            ],
            "text/plain": [
              "<IPython.core.display.HTML object>"
            ]
          },
          "metadata": {
            "tags": []
          }
        },
        {
          "output_type": "stream",
          "text": [
            "Downloading data from http://fashion-mnist.s3-website.eu-central-1.amazonaws.com/train-labels-idx1-ubyte.gz\n",
            "32768/29515 [=================================] - 0s 8us/step\n",
            "Downloading data from http://fashion-mnist.s3-website.eu-central-1.amazonaws.com/train-images-idx3-ubyte.gz\n",
            "26427392/26421880 [==============================] - 4s 0us/step\n",
            "Downloading data from http://fashion-mnist.s3-website.eu-central-1.amazonaws.com/t10k-labels-idx1-ubyte.gz\n",
            "8192/5148 [===============================================] - 0s 0us/step\n",
            "Downloading data from http://fashion-mnist.s3-website.eu-central-1.amazonaws.com/t10k-images-idx3-ubyte.gz\n",
            "4423680/4422102 [==============================] - 5s 1us/step\n"
          ],
          "name": "stdout"
        }
      ]
    },
    {
      "cell_type": "code",
      "metadata": {
        "id": "Y6A9rLmoeNFd",
        "colab_type": "code",
        "outputId": "55256f48-1a17-4883-ad04-737131954ded",
        "colab": {
          "base_uri": "https://localhost:8080/",
          "height": 35
        }
      },
      "source": [
        "from __future__ import absolute_import, division, print_function, unicode_literals\n",
        "\n",
        "# TensorFlow and tf.keras\n",
        "import tensorflow as tf\n",
        "from tensorflow import keras\n",
        "\n",
        "# Helper libraries\n",
        "import numpy as np\n",
        "import matplotlib.pyplot as plt\n",
        "\n",
        "print(tf.__version__)"
      ],
      "execution_count": 0,
      "outputs": [
        {
          "output_type": "stream",
          "text": [
            "1.15.0\n"
          ],
          "name": "stdout"
        }
      ]
    },
    {
      "cell_type": "code",
      "metadata": {
        "id": "W2jhagjNeRjY",
        "colab_type": "code",
        "colab": {}
      },
      "source": [
        "fashion_mnist = keras.datasets.fashion_mnist\n",
        "\n",
        "(train_images, train_labels), (test_images, test_labels) = fashion_mnist.load_data()"
      ],
      "execution_count": 0,
      "outputs": []
    },
    {
      "cell_type": "code",
      "metadata": {
        "id": "VITMVXecea-9",
        "colab_type": "code",
        "colab": {}
      },
      "source": [
        "class_names = ['T-shirt/top', 'Trouser', 'Pullover', 'Dress', 'Coat',\n",
        "               'Sandal', 'Shirt', 'Sneaker', 'Bag', 'Ankle boot']"
      ],
      "execution_count": 0,
      "outputs": []
    },
    {
      "cell_type": "code",
      "metadata": {
        "id": "2PeR4s6ceeqF",
        "colab_type": "code",
        "outputId": "35a257b9-0959-4118-de29-652fc9956f59",
        "colab": {
          "base_uri": "https://localhost:8080/",
          "height": 35
        }
      },
      "source": [
        "train_images.shape"
      ],
      "execution_count": 0,
      "outputs": [
        {
          "output_type": "execute_result",
          "data": {
            "text/plain": [
              "(60000, 28, 28)"
            ]
          },
          "metadata": {
            "tags": []
          },
          "execution_count": 23
        }
      ]
    },
    {
      "cell_type": "code",
      "metadata": {
        "id": "ts0dhU4lehSo",
        "colab_type": "code",
        "outputId": "1af9ee69-294d-4a70-8858-c59ef8f328ed",
        "colab": {
          "base_uri": "https://localhost:8080/",
          "height": 35
        }
      },
      "source": [
        "len(train_labels)"
      ],
      "execution_count": 0,
      "outputs": [
        {
          "output_type": "execute_result",
          "data": {
            "text/plain": [
              "60000"
            ]
          },
          "metadata": {
            "tags": []
          },
          "execution_count": 24
        }
      ]
    },
    {
      "cell_type": "code",
      "metadata": {
        "id": "Ykhk-c2Deld4",
        "colab_type": "code",
        "outputId": "c78d8c76-ec29-4acd-86c9-4c60a0d5708c",
        "colab": {
          "base_uri": "https://localhost:8080/",
          "height": 35
        }
      },
      "source": [
        "train_labels"
      ],
      "execution_count": 0,
      "outputs": [
        {
          "output_type": "execute_result",
          "data": {
            "text/plain": [
              "array([9, 0, 0, ..., 3, 0, 5], dtype=uint8)"
            ]
          },
          "metadata": {
            "tags": []
          },
          "execution_count": 25
        }
      ]
    },
    {
      "cell_type": "code",
      "metadata": {
        "id": "rVHkltHKeqeJ",
        "colab_type": "code",
        "outputId": "bd76c2e3-6cbe-4dbb-accb-3185e1565270",
        "colab": {
          "base_uri": "https://localhost:8080/",
          "height": 35
        }
      },
      "source": [
        "test_images.shape"
      ],
      "execution_count": 0,
      "outputs": [
        {
          "output_type": "execute_result",
          "data": {
            "text/plain": [
              "(10000, 28, 28)"
            ]
          },
          "metadata": {
            "tags": []
          },
          "execution_count": 26
        }
      ]
    },
    {
      "cell_type": "code",
      "metadata": {
        "id": "xtYsEBHZeyaZ",
        "colab_type": "code",
        "outputId": "5c7a8ea6-d6d6-4b93-8f1b-c088836ccee5",
        "colab": {
          "base_uri": "https://localhost:8080/",
          "height": 35
        }
      },
      "source": [
        "len(test_labels)"
      ],
      "execution_count": 0,
      "outputs": [
        {
          "output_type": "execute_result",
          "data": {
            "text/plain": [
              "10000"
            ]
          },
          "metadata": {
            "tags": []
          },
          "execution_count": 27
        }
      ]
    },
    {
      "cell_type": "code",
      "metadata": {
        "id": "0_fwjEiLe1Sh",
        "colab_type": "code",
        "colab": {}
      },
      "source": [
        "plt.figure()\n",
        "plt.imshow(train_images[0])\n",
        "plt.colorbar()\n",
        "plt.grid(False)\n",
        "plt.show()"
      ],
      "execution_count": 0,
      "outputs": []
    },
    {
      "cell_type": "code",
      "metadata": {
        "id": "zhLi-4eAe5TE",
        "colab_type": "code",
        "colab": {}
      },
      "source": [
        "train_images = train_images / 255.0\n",
        "\n",
        "test_images = test_images / 255.0"
      ],
      "execution_count": 0,
      "outputs": []
    },
    {
      "cell_type": "code",
      "metadata": {
        "id": "8nvNUAG0e8BR",
        "colab_type": "code",
        "colab": {}
      },
      "source": [
        "plt.figure(figsize=(10,10))\n",
        "for i in range(25):\n",
        "    plt.subplot(5,5,i+1)\n",
        "    plt.xticks([])\n",
        "    plt.yticks([])\n",
        "    plt.grid(False)\n",
        "    plt.imshow(train_images[i], cmap=plt.cm.binary)\n",
        "    plt.xlabel(class_names[train_labels[i]])\n",
        "plt.show()"
      ],
      "execution_count": 0,
      "outputs": []
    },
    {
      "cell_type": "code",
      "metadata": {
        "id": "wqVcLCN3fFm7",
        "colab_type": "code",
        "outputId": "0b700d20-5f2d-4d7b-9762-12e67e2e94f0",
        "colab": {
          "base_uri": "https://localhost:8080/",
          "height": 90
        }
      },
      "source": [
        "model = keras.Sequential([\n",
        "    keras.layers.Flatten(input_shape=(28, 28)),\n",
        "    keras.layers.Dense(128, activation='relu'),\n",
        "    keras.layers.Dense(10, activation='softmax')\n",
        "])"
      ],
      "execution_count": 0,
      "outputs": [
        {
          "output_type": "stream",
          "text": [
            "WARNING:tensorflow:From /usr/local/lib/python3.6/dist-packages/tensorflow_core/python/ops/resource_variable_ops.py:1630: calling BaseResourceVariable.__init__ (from tensorflow.python.ops.resource_variable_ops) with constraint is deprecated and will be removed in a future version.\n",
            "Instructions for updating:\n",
            "If using Keras pass *_constraint arguments to layers.\n"
          ],
          "name": "stdout"
        }
      ]
    },
    {
      "cell_type": "code",
      "metadata": {
        "id": "kQJZeyUHfMbR",
        "colab_type": "code",
        "colab": {}
      },
      "source": [
        "model.compile(optimizer='adam',\n",
        "              loss='sparse_categorical_crossentropy',\n",
        "              metrics=['accuracy'])"
      ],
      "execution_count": 0,
      "outputs": []
    },
    {
      "cell_type": "code",
      "metadata": {
        "id": "JNmZ5nPWfQqN",
        "colab_type": "code",
        "outputId": "19fbafaa-3512-4562-e774-eaf2774f8ad8",
        "colab": {
          "base_uri": "https://localhost:8080/",
          "height": 1000
        }
      },
      "source": [
        "model.fit(train_images, train_labels, epochs=100)"
      ],
      "execution_count": 0,
      "outputs": [
        {
          "output_type": "stream",
          "text": [
            "Train on 60000 samples\n",
            "Epoch 1/100\n",
            "60000/60000 [==============================] - 5s 91us/sample - loss: 0.4989 - acc: 0.8238\n",
            "Epoch 2/100\n",
            "60000/60000 [==============================] - 5s 76us/sample - loss: 0.3709 - acc: 0.8667\n",
            "Epoch 3/100\n",
            "60000/60000 [==============================] - 5s 77us/sample - loss: 0.3353 - acc: 0.8767\n",
            "Epoch 4/100\n",
            "60000/60000 [==============================] - 5s 78us/sample - loss: 0.3092 - acc: 0.8860\n",
            "Epoch 5/100\n",
            "60000/60000 [==============================] - 5s 76us/sample - loss: 0.2927 - acc: 0.8921\n",
            "Epoch 6/100\n",
            "60000/60000 [==============================] - 5s 77us/sample - loss: 0.2767 - acc: 0.8978\n",
            "Epoch 7/100\n",
            "60000/60000 [==============================] - 5s 77us/sample - loss: 0.2656 - acc: 0.9005\n",
            "Epoch 8/100\n",
            "60000/60000 [==============================] - 5s 77us/sample - loss: 0.2535 - acc: 0.9054\n",
            "Epoch 9/100\n",
            "60000/60000 [==============================] - 5s 77us/sample - loss: 0.2442 - acc: 0.9083\n",
            "Epoch 10/100\n",
            "60000/60000 [==============================] - 5s 77us/sample - loss: 0.2351 - acc: 0.9120\n",
            "Epoch 11/100\n",
            "60000/60000 [==============================] - 5s 76us/sample - loss: 0.2274 - acc: 0.9143\n",
            "Epoch 12/100\n",
            "60000/60000 [==============================] - 5s 77us/sample - loss: 0.2224 - acc: 0.9161\n",
            "Epoch 13/100\n",
            "60000/60000 [==============================] - 5s 77us/sample - loss: 0.2144 - acc: 0.9195\n",
            "Epoch 14/100\n",
            "60000/60000 [==============================] - 5s 77us/sample - loss: 0.2088 - acc: 0.9234\n",
            "Epoch 15/100\n",
            "60000/60000 [==============================] - 5s 76us/sample - loss: 0.2018 - acc: 0.9237\n",
            "Epoch 16/100\n",
            "60000/60000 [==============================] - 5s 77us/sample - loss: 0.1969 - acc: 0.9262\n",
            "Epoch 17/100\n",
            "60000/60000 [==============================] - 5s 77us/sample - loss: 0.1916 - acc: 0.9265\n",
            "Epoch 18/100\n",
            "60000/60000 [==============================] - 5s 77us/sample - loss: 0.1847 - acc: 0.9308\n",
            "Epoch 19/100\n",
            "60000/60000 [==============================] - 5s 77us/sample - loss: 0.1831 - acc: 0.9309\n",
            "Epoch 20/100\n",
            "60000/60000 [==============================] - 5s 77us/sample - loss: 0.1761 - acc: 0.9340\n",
            "Epoch 21/100\n",
            "60000/60000 [==============================] - 5s 76us/sample - loss: 0.1713 - acc: 0.9357\n",
            "Epoch 22/100\n",
            "60000/60000 [==============================] - 5s 76us/sample - loss: 0.1677 - acc: 0.9371\n",
            "Epoch 23/100\n",
            "60000/60000 [==============================] - 5s 76us/sample - loss: 0.1617 - acc: 0.9384\n",
            "Epoch 24/100\n",
            "60000/60000 [==============================] - 5s 77us/sample - loss: 0.1613 - acc: 0.9396\n",
            "Epoch 25/100\n",
            "60000/60000 [==============================] - 5s 76us/sample - loss: 0.1564 - acc: 0.9416\n",
            "Epoch 26/100\n",
            "60000/60000 [==============================] - 5s 76us/sample - loss: 0.1511 - acc: 0.9431\n",
            "Epoch 27/100\n",
            "60000/60000 [==============================] - 5s 76us/sample - loss: 0.1525 - acc: 0.9433\n",
            "Epoch 28/100\n",
            "60000/60000 [==============================] - 5s 77us/sample - loss: 0.1451 - acc: 0.9452\n",
            "Epoch 29/100\n",
            "60000/60000 [==============================] - 5s 77us/sample - loss: 0.1422 - acc: 0.9466\n",
            "Epoch 30/100\n",
            "60000/60000 [==============================] - 5s 76us/sample - loss: 0.1405 - acc: 0.9469\n",
            "Epoch 31/100\n",
            "60000/60000 [==============================] - 5s 76us/sample - loss: 0.1374 - acc: 0.9492\n",
            "Epoch 32/100\n",
            "60000/60000 [==============================] - 5s 76us/sample - loss: 0.1323 - acc: 0.9506\n",
            "Epoch 33/100\n",
            "60000/60000 [==============================] - 5s 76us/sample - loss: 0.1333 - acc: 0.9497\n",
            "Epoch 34/100\n",
            "60000/60000 [==============================] - 5s 78us/sample - loss: 0.1293 - acc: 0.9517\n",
            "Epoch 35/100\n",
            "60000/60000 [==============================] - 5s 79us/sample - loss: 0.1250 - acc: 0.9543\n",
            "Epoch 36/100\n",
            "60000/60000 [==============================] - 5s 77us/sample - loss: 0.1263 - acc: 0.9533\n",
            "Epoch 37/100\n",
            "60000/60000 [==============================] - 5s 75us/sample - loss: 0.1216 - acc: 0.9549\n",
            "Epoch 38/100\n",
            "60000/60000 [==============================] - 4s 75us/sample - loss: 0.1202 - acc: 0.9556\n",
            "Epoch 39/100\n",
            "60000/60000 [==============================] - 5s 76us/sample - loss: 0.1180 - acc: 0.9560\n",
            "Epoch 40/100\n",
            "60000/60000 [==============================] - 5s 76us/sample - loss: 0.1165 - acc: 0.9560\n",
            "Epoch 41/100\n",
            "60000/60000 [==============================] - 5s 75us/sample - loss: 0.1134 - acc: 0.9577\n",
            "Epoch 42/100\n",
            "60000/60000 [==============================] - 4s 75us/sample - loss: 0.1129 - acc: 0.9574\n",
            "Epoch 43/100\n",
            "60000/60000 [==============================] - 5s 76us/sample - loss: 0.1084 - acc: 0.9599\n",
            "Epoch 44/100\n",
            "60000/60000 [==============================] - 5s 77us/sample - loss: 0.1070 - acc: 0.9597\n",
            "Epoch 45/100\n",
            "60000/60000 [==============================] - 5s 75us/sample - loss: 0.1076 - acc: 0.9599\n",
            "Epoch 46/100\n",
            "60000/60000 [==============================] - 5s 76us/sample - loss: 0.1030 - acc: 0.9627\n",
            "Epoch 47/100\n",
            "60000/60000 [==============================] - 5s 76us/sample - loss: 0.1020 - acc: 0.9620\n",
            "Epoch 48/100\n",
            "60000/60000 [==============================] - 5s 76us/sample - loss: 0.1008 - acc: 0.9622\n",
            "Epoch 49/100\n",
            "60000/60000 [==============================] - 5s 80us/sample - loss: 0.0993 - acc: 0.9628\n",
            "Epoch 50/100\n",
            "60000/60000 [==============================] - 5s 76us/sample - loss: 0.0962 - acc: 0.9635\n",
            "Epoch 51/100\n",
            "60000/60000 [==============================] - 5s 75us/sample - loss: 0.0978 - acc: 0.9639\n",
            "Epoch 52/100\n",
            "60000/60000 [==============================] - 5s 76us/sample - loss: 0.0954 - acc: 0.9652\n",
            "Epoch 53/100\n",
            "60000/60000 [==============================] - 5s 76us/sample - loss: 0.0939 - acc: 0.9647\n",
            "Epoch 54/100\n",
            "60000/60000 [==============================] - 5s 76us/sample - loss: 0.0942 - acc: 0.9648\n",
            "Epoch 55/100\n",
            "60000/60000 [==============================] - 5s 75us/sample - loss: 0.0903 - acc: 0.9669\n",
            "Epoch 56/100\n",
            "60000/60000 [==============================] - 5s 76us/sample - loss: 0.0872 - acc: 0.9668\n",
            "Epoch 57/100\n",
            "60000/60000 [==============================] - 5s 75us/sample - loss: 0.0901 - acc: 0.9661\n",
            "Epoch 58/100\n",
            "60000/60000 [==============================] - 5s 75us/sample - loss: 0.0884 - acc: 0.9671\n",
            "Epoch 59/100\n",
            "60000/60000 [==============================] - 5s 75us/sample - loss: 0.0871 - acc: 0.9672\n",
            "Epoch 60/100\n",
            "60000/60000 [==============================] - 5s 76us/sample - loss: 0.0845 - acc: 0.9694\n",
            "Epoch 61/100\n",
            "60000/60000 [==============================] - 5s 75us/sample - loss: 0.0843 - acc: 0.9691\n",
            "Epoch 62/100\n",
            "60000/60000 [==============================] - 4s 75us/sample - loss: 0.0823 - acc: 0.9694\n",
            "Epoch 63/100\n",
            "60000/60000 [==============================] - 5s 76us/sample - loss: 0.0822 - acc: 0.9700\n",
            "Epoch 64/100\n",
            "60000/60000 [==============================] - 5s 75us/sample - loss: 0.0813 - acc: 0.9691\n",
            "Epoch 65/100\n",
            "60000/60000 [==============================] - 5s 76us/sample - loss: 0.0768 - acc: 0.9708\n",
            "Epoch 66/100\n",
            "60000/60000 [==============================] - 5s 75us/sample - loss: 0.0773 - acc: 0.9708\n",
            "Epoch 67/100\n",
            "60000/60000 [==============================] - 5s 76us/sample - loss: 0.0796 - acc: 0.9712\n",
            "Epoch 68/100\n",
            "60000/60000 [==============================] - 5s 76us/sample - loss: 0.0760 - acc: 0.9708\n",
            "Epoch 69/100\n",
            "60000/60000 [==============================] - 4s 74us/sample - loss: 0.0745 - acc: 0.9723\n",
            "Epoch 70/100\n",
            "60000/60000 [==============================] - 4s 74us/sample - loss: 0.0722 - acc: 0.9731\n",
            "Epoch 71/100\n",
            "60000/60000 [==============================] - 4s 74us/sample - loss: 0.0729 - acc: 0.9730\n",
            "Epoch 72/100\n",
            "60000/60000 [==============================] - 4s 75us/sample - loss: 0.0723 - acc: 0.9728\n",
            "Epoch 73/100\n",
            "60000/60000 [==============================] - 5s 75us/sample - loss: 0.0708 - acc: 0.9733\n",
            "Epoch 74/100\n",
            "60000/60000 [==============================] - 4s 75us/sample - loss: 0.0724 - acc: 0.9734\n",
            "Epoch 75/100\n",
            "60000/60000 [==============================] - 5s 75us/sample - loss: 0.0676 - acc: 0.9748\n",
            "Epoch 76/100\n",
            "60000/60000 [==============================] - 5s 76us/sample - loss: 0.0690 - acc: 0.9742\n",
            "Epoch 77/100\n",
            "60000/60000 [==============================] - 5s 75us/sample - loss: 0.0690 - acc: 0.9738\n",
            "Epoch 78/100\n",
            "60000/60000 [==============================] - 5s 76us/sample - loss: 0.0651 - acc: 0.9761\n",
            "Epoch 79/100\n",
            "60000/60000 [==============================] - 5s 76us/sample - loss: 0.0673 - acc: 0.9749\n",
            "Epoch 80/100\n",
            "60000/60000 [==============================] - 5s 75us/sample - loss: 0.0662 - acc: 0.9748\n",
            "Epoch 81/100\n",
            "60000/60000 [==============================] - 4s 75us/sample - loss: 0.0616 - acc: 0.9774\n",
            "Epoch 82/100\n",
            "60000/60000 [==============================] - 4s 74us/sample - loss: 0.0631 - acc: 0.9767\n",
            "Epoch 83/100\n",
            "60000/60000 [==============================] - 4s 75us/sample - loss: 0.0621 - acc: 0.9766\n",
            "Epoch 84/100\n",
            "60000/60000 [==============================] - 4s 74us/sample - loss: 0.0621 - acc: 0.9772\n",
            "Epoch 85/100\n",
            "60000/60000 [==============================] - 5s 75us/sample - loss: 0.0607 - acc: 0.9772\n",
            "Epoch 86/100\n",
            "60000/60000 [==============================] - 4s 75us/sample - loss: 0.0614 - acc: 0.9771\n",
            "Epoch 87/100\n",
            "60000/60000 [==============================] - 4s 74us/sample - loss: 0.0574 - acc: 0.9789\n",
            "Epoch 88/100\n",
            "60000/60000 [==============================] - 5s 76us/sample - loss: 0.0580 - acc: 0.9780\n",
            "Epoch 89/100\n",
            "60000/60000 [==============================] - 4s 75us/sample - loss: 0.0582 - acc: 0.9787\n",
            "Epoch 90/100\n",
            "60000/60000 [==============================] - 4s 75us/sample - loss: 0.0596 - acc: 0.9775\n",
            "Epoch 91/100\n",
            "60000/60000 [==============================] - 4s 75us/sample - loss: 0.0557 - acc: 0.9788\n",
            "Epoch 92/100\n",
            "60000/60000 [==============================] - 4s 74us/sample - loss: 0.0566 - acc: 0.9787\n",
            "Epoch 93/100\n",
            "60000/60000 [==============================] - 5s 76us/sample - loss: 0.0565 - acc: 0.9791\n",
            "Epoch 94/100\n",
            "60000/60000 [==============================] - 5s 76us/sample - loss: 0.0541 - acc: 0.9797\n",
            "Epoch 95/100\n",
            "60000/60000 [==============================] - 4s 75us/sample - loss: 0.0563 - acc: 0.9797\n",
            "Epoch 96/100\n",
            "60000/60000 [==============================] - 4s 74us/sample - loss: 0.0537 - acc: 0.9799\n",
            "Epoch 97/100\n",
            "60000/60000 [==============================] - 4s 75us/sample - loss: 0.0547 - acc: 0.9794\n",
            "Epoch 98/100\n",
            "60000/60000 [==============================] - 4s 75us/sample - loss: 0.0532 - acc: 0.9803\n",
            "Epoch 99/100\n",
            "60000/60000 [==============================] - 5s 76us/sample - loss: 0.0519 - acc: 0.9807\n",
            "Epoch 100/100\n",
            "60000/60000 [==============================] - 4s 75us/sample - loss: 0.0534 - acc: 0.9799\n"
          ],
          "name": "stdout"
        },
        {
          "output_type": "execute_result",
          "data": {
            "text/plain": [
              "<tensorflow.python.keras.callbacks.History at 0x7f5d63e7c208>"
            ]
          },
          "metadata": {
            "tags": []
          },
          "execution_count": 17
        }
      ]
    },
    {
      "cell_type": "code",
      "metadata": {
        "id": "IEueSdKDfWfI",
        "colab_type": "code",
        "outputId": "1cd2b5bf-4fa8-47bc-cd33-e29cc5b0ecb2",
        "colab": {
          "base_uri": "https://localhost:8080/",
          "height": 70
        }
      },
      "source": [
        "test_loss, test_acc = model.evaluate(test_images,  test_labels, verbose=2)\n",
        "\n",
        "print('\\nTest accuracy:', test_acc)"
      ],
      "execution_count": 0,
      "outputs": [
        {
          "output_type": "stream",
          "text": [
            "10000/10000 - 1s - loss: 0.8045 - acc: 0.8859\n",
            "\n",
            "Test accuracy: 0.8859\n"
          ],
          "name": "stdout"
        }
      ]
    },
    {
      "cell_type": "code",
      "metadata": {
        "id": "l_bdnwBPfZ1b",
        "colab_type": "code",
        "colab": {}
      },
      "source": [
        "predictions = model.predict(test_images)"
      ],
      "execution_count": 0,
      "outputs": []
    },
    {
      "cell_type": "code",
      "metadata": {
        "id": "eKa_sDdbJOmP",
        "colab_type": "code",
        "colab": {}
      },
      "source": [
        "model.save('moinul_model.h5')"
      ],
      "execution_count": 0,
      "outputs": []
    },
    {
      "cell_type": "code",
      "metadata": {
        "id": "Ox13kJqfOIP9",
        "colab_type": "code",
        "colab": {}
      },
      "source": [
        "from google.colab import drive\n",
        "drive.mount('/content/drive')"
      ],
      "execution_count": 0,
      "outputs": []
    },
    {
      "cell_type": "code",
      "metadata": {
        "id": "atdoDi78feM4",
        "colab_type": "code",
        "outputId": "48b32229-7290-4983-d5cb-96601d3d3e1f",
        "colab": {
          "base_uri": "https://localhost:8080/",
          "height": 70
        }
      },
      "source": [
        "predictions[0]"
      ],
      "execution_count": 0,
      "outputs": [
        {
          "output_type": "execute_result",
          "data": {
            "text/plain": [
              "array([6.8628932e-36, 5.5449171e-25, 9.1107219e-33, 0.0000000e+00,\n",
              "       4.8595388e-31, 1.9202410e-11, 3.7595476e-38, 5.3849512e-09,\n",
              "       6.7702455e-21, 1.0000000e+00], dtype=float32)"
            ]
          },
          "metadata": {
            "tags": []
          },
          "execution_count": 20
        }
      ]
    },
    {
      "cell_type": "code",
      "metadata": {
        "id": "vnMq7PP4fh79",
        "colab_type": "code",
        "outputId": "48802932-7d70-475e-f11c-09b1d2f9bd08",
        "colab": {
          "base_uri": "https://localhost:8080/",
          "height": 35
        }
      },
      "source": [
        "test_labels[0]"
      ],
      "execution_count": 0,
      "outputs": [
        {
          "output_type": "execute_result",
          "data": {
            "text/plain": [
              "9"
            ]
          },
          "metadata": {
            "tags": []
          },
          "execution_count": 21
        }
      ]
    },
    {
      "cell_type": "code",
      "metadata": {
        "id": "WiQoFfjefi2w",
        "colab_type": "code",
        "colab": {}
      },
      "source": [
        "def plot_image(i, predictions_array, true_label, img):\n",
        "  predictions_array, true_label, img = predictions_array, true_label[i], img[i]\n",
        "  plt.grid(False)\n",
        "  plt.xticks([])\n",
        "  plt.yticks([])\n",
        "\n",
        "  plt.imshow(img, cmap=plt.cm.binary)\n",
        "\n",
        "  predicted_label = np.argmax(predictions_array)\n",
        "  if predicted_label == true_label:\n",
        "    color = 'blue'\n",
        "  else:\n",
        "    color = 'red'\n",
        "\n",
        "  plt.xlabel(\"{} {:2.0f}% ({})\".format(class_names[predicted_label],\n",
        "                                100*np.max(predictions_array),\n",
        "                                class_names[true_label]),\n",
        "                                color=color)\n",
        "\n",
        "def plot_value_array(i, predictions_array, true_label):\n",
        "  predictions_array, true_label = predictions_array, true_label[i]\n",
        "  plt.grid(False)\n",
        "  plt.xticks(range(10))\n",
        "  plt.yticks([])\n",
        "  thisplot = plt.bar(range(10), predictions_array, color=\"#777777\")\n",
        "  plt.ylim([0, 1])\n",
        "  predicted_label = np.argmax(predictions_array)\n",
        "\n",
        "  thisplot[predicted_label].set_color('red')\n",
        "  thisplot[true_label].set_color('blue')"
      ],
      "execution_count": 0,
      "outputs": []
    },
    {
      "cell_type": "code",
      "metadata": {
        "id": "_leuqSDDflne",
        "colab_type": "code",
        "outputId": "7470c458-866a-47cf-a6f2-3270db111a5e",
        "colab": {
          "base_uri": "https://localhost:8080/",
          "height": 238
        }
      },
      "source": [
        "i = 0\n",
        "plt.figure(figsize=(6,3))\n",
        "plt.subplot(1,2,1)\n",
        "plot_image(i, predictions[i], test_labels, test_images)\n",
        "plt.subplot(1,2,2)\n",
        "plot_value_array(i, predictions[i],  test_labels)\n",
        "plt.show()"
      ],
      "execution_count": 0,
      "outputs": [
        {
          "output_type": "error",
          "ename": "NameError",
          "evalue": "ignored",
          "traceback": [
            "\u001b[0;31m---------------------------------------------------------------------------\u001b[0m",
            "\u001b[0;31mNameError\u001b[0m                                 Traceback (most recent call last)",
            "\u001b[0;32m<ipython-input-35-69392c8b20c5>\u001b[0m in \u001b[0;36m<module>\u001b[0;34m()\u001b[0m\n\u001b[1;32m      2\u001b[0m \u001b[0mplt\u001b[0m\u001b[0;34m.\u001b[0m\u001b[0mfigure\u001b[0m\u001b[0;34m(\u001b[0m\u001b[0mfigsize\u001b[0m\u001b[0;34m=\u001b[0m\u001b[0;34m(\u001b[0m\u001b[0;36m6\u001b[0m\u001b[0;34m,\u001b[0m\u001b[0;36m3\u001b[0m\u001b[0;34m)\u001b[0m\u001b[0;34m)\u001b[0m\u001b[0;34m\u001b[0m\u001b[0;34m\u001b[0m\u001b[0m\n\u001b[1;32m      3\u001b[0m \u001b[0mplt\u001b[0m\u001b[0;34m.\u001b[0m\u001b[0msubplot\u001b[0m\u001b[0;34m(\u001b[0m\u001b[0;36m1\u001b[0m\u001b[0;34m,\u001b[0m\u001b[0;36m2\u001b[0m\u001b[0;34m,\u001b[0m\u001b[0;36m1\u001b[0m\u001b[0;34m)\u001b[0m\u001b[0;34m\u001b[0m\u001b[0;34m\u001b[0m\u001b[0m\n\u001b[0;32m----> 4\u001b[0;31m \u001b[0mplot_image\u001b[0m\u001b[0;34m(\u001b[0m\u001b[0mi\u001b[0m\u001b[0;34m,\u001b[0m \u001b[0mpredictions\u001b[0m\u001b[0;34m[\u001b[0m\u001b[0mi\u001b[0m\u001b[0;34m]\u001b[0m\u001b[0;34m,\u001b[0m \u001b[0mtest_labels\u001b[0m\u001b[0;34m,\u001b[0m \u001b[0mtest_images\u001b[0m\u001b[0;34m)\u001b[0m\u001b[0;34m\u001b[0m\u001b[0;34m\u001b[0m\u001b[0m\n\u001b[0m\u001b[1;32m      5\u001b[0m \u001b[0mplt\u001b[0m\u001b[0;34m.\u001b[0m\u001b[0msubplot\u001b[0m\u001b[0;34m(\u001b[0m\u001b[0;36m1\u001b[0m\u001b[0;34m,\u001b[0m\u001b[0;36m2\u001b[0m\u001b[0;34m,\u001b[0m\u001b[0;36m2\u001b[0m\u001b[0;34m)\u001b[0m\u001b[0;34m\u001b[0m\u001b[0;34m\u001b[0m\u001b[0m\n\u001b[1;32m      6\u001b[0m \u001b[0mplot_value_array\u001b[0m\u001b[0;34m(\u001b[0m\u001b[0mi\u001b[0m\u001b[0;34m,\u001b[0m \u001b[0mpredictions\u001b[0m\u001b[0;34m[\u001b[0m\u001b[0mi\u001b[0m\u001b[0;34m]\u001b[0m\u001b[0;34m,\u001b[0m  \u001b[0mtest_labels\u001b[0m\u001b[0;34m)\u001b[0m\u001b[0;34m\u001b[0m\u001b[0;34m\u001b[0m\u001b[0m\n",
            "\u001b[0;31mNameError\u001b[0m: name 'predictions' is not defined"
          ]
        }
      ]
    },
    {
      "cell_type": "code",
      "metadata": {
        "id": "18Dd3o0HfqDd",
        "colab_type": "code",
        "colab": {}
      },
      "source": [
        "i = 12\n",
        "plt.figure(figsize=(6,3))\n",
        "plt.subplot(1,2,1)\n",
        "plot_image(i, predictions[i], test_labels, test_images)\n",
        "plt.subplot(1,2,2)\n",
        "plot_value_array(i, predictions[i],  test_labels)\n",
        "plt.show()"
      ],
      "execution_count": 0,
      "outputs": []
    },
    {
      "cell_type": "code",
      "metadata": {
        "id": "iIdarThVfs7R",
        "colab_type": "code",
        "colab": {}
      },
      "source": [
        "# Plot the first X test images, their predicted labels, and the true labels.\n",
        "# Color correct predictions in blue and incorrect predictions in red.\n",
        "num_rows = 5\n",
        "num_cols = 3\n",
        "num_images = num_rows*num_cols\n",
        "plt.figure(figsize=(2*2*num_cols, 2*num_rows))\n",
        "for i in range(num_images):\n",
        "  plt.subplot(num_rows, 2*num_cols, 2*i+1)\n",
        "  plot_image(i, predictions[i], test_labels, test_images)\n",
        "  plt.subplot(num_rows, 2*num_cols, 2*i+2)\n",
        "  plot_value_array(i, predictions[i], test_labels)\n",
        "plt.tight_layout()\n",
        "plt.show()"
      ],
      "execution_count": 0,
      "outputs": []
    },
    {
      "cell_type": "code",
      "metadata": {
        "id": "AyxM0t9Yfz_w",
        "colab_type": "code",
        "outputId": "fa87ff68-38d4-4357-ea61-c8167a78e9a1",
        "colab": {
          "base_uri": "https://localhost:8080/",
          "height": 35
        }
      },
      "source": [
        "# Grab an image from the test dataset.\n",
        "img = test_images[1]\n",
        "\n",
        "print(img.shape)"
      ],
      "execution_count": 0,
      "outputs": [
        {
          "output_type": "stream",
          "text": [
            "(28, 28)\n"
          ],
          "name": "stdout"
        }
      ]
    },
    {
      "cell_type": "code",
      "metadata": {
        "id": "8c5n-GDAf8zJ",
        "colab_type": "code",
        "outputId": "9618e0c8-f497-4317-cb01-03f58306d269",
        "colab": {
          "base_uri": "https://localhost:8080/",
          "height": 35
        }
      },
      "source": [
        "# Add the image to a batch where it's the only member.\n",
        "img = (np.expand_dims(img,0))\n",
        "\n",
        "print(img.shape)"
      ],
      "execution_count": 0,
      "outputs": [
        {
          "output_type": "stream",
          "text": [
            "(1, 28, 28)\n"
          ],
          "name": "stdout"
        }
      ]
    },
    {
      "cell_type": "code",
      "metadata": {
        "id": "WsbuZGFrf-qu",
        "colab_type": "code",
        "outputId": "37d3ac8d-ee88-42ab-87ab-0c801b275980",
        "colab": {
          "base_uri": "https://localhost:8080/",
          "height": 52
        }
      },
      "source": [
        "predictions_single = model.predict(img)\n",
        "\n",
        "print(predictions_single)"
      ],
      "execution_count": 0,
      "outputs": [
        {
          "output_type": "stream",
          "text": [
            "[[3.2385180e-03 0.0000000e+00 9.9676126e-01 1.9049407e-20 2.4543408e-07\n",
            "  2.0620322e-23 1.0587004e-10 0.0000000e+00 1.4649982e-29 0.0000000e+00]]\n"
          ],
          "name": "stdout"
        }
      ]
    },
    {
      "cell_type": "code",
      "metadata": {
        "id": "UI06T6SjgBrx",
        "colab_type": "code",
        "colab": {}
      },
      "source": [
        "plot_value_array(1, predictions_single[0], test_labels)\n",
        "_ = plt.xticks(range(10), class_names, rotation=45)"
      ],
      "execution_count": 0,
      "outputs": []
    },
    {
      "cell_type": "code",
      "metadata": {
        "id": "LTqzhU_xgEl_",
        "colab_type": "code",
        "outputId": "b159c56a-ec1f-467f-ab80-2d4c65614850",
        "colab": {
          "base_uri": "https://localhost:8080/",
          "height": 35
        }
      },
      "source": [
        "np.argmax(predictions_single[0])"
      ],
      "execution_count": 0,
      "outputs": [
        {
          "output_type": "execute_result",
          "data": {
            "text/plain": [
              "2"
            ]
          },
          "metadata": {
            "tags": []
          },
          "execution_count": 30
        }
      ]
    },
    {
      "cell_type": "markdown",
      "metadata": {
        "id": "3RlTqVNdqokb",
        "colab_type": "text"
      },
      "source": [
        "# New Section"
      ]
    },
    {
      "cell_type": "code",
      "metadata": {
        "id": "Xtk8_sUW2pe1",
        "colab_type": "code",
        "colab": {}
      },
      "source": [
        ""
      ],
      "execution_count": 0,
      "outputs": []
    },
    {
      "cell_type": "code",
      "metadata": {
        "id": "ykn6hccvrOc5",
        "colab_type": "code",
        "outputId": "27b2df79-0705-44cc-caf5-be724b0eafea",
        "colab": {
          "base_uri": "https://localhost:8080/",
          "height": 81
        }
      },
      "source": [
        "# import the necessary packages\n",
        "from keras.models import Sequential\n",
        "from keras.layers.normalization import BatchNormalization\n",
        "from keras.layers.convolutional import Conv2D\n",
        "from keras.layers.convolutional import MaxPooling2D\n",
        "from keras.layers.core import Activation\n",
        "from keras.layers.core import Flatten\n",
        "from keras.layers.core import Dropout\n",
        "from keras.layers.core import Dense\n",
        "from keras import backend as K\n",
        "\n",
        "class MiniVGGNet:\n",
        "\t@staticmethod\n",
        "\tdef build(width, height, depth, classes):\n",
        "\t\t# initialize the model along with the input shape to be\n",
        "\t\t# \"channels last\" and the channels dimension itself\n",
        "\t\tmodel = Sequential()\n",
        "\t\tinputShape = (height, width, depth)\n",
        "\t\tchanDim = -1\n",
        "\n",
        "\t\t# if we are using \"channels first\", update the input shape\n",
        "\t\t# and channels dimension\n",
        "\t\tif K.image_data_format() == \"channels_first\":\n",
        "\t\t\tinputShape = (depth, height, width)\n",
        "\t\t\tchanDim = 1\t\t# first CONV => RELU => CONV => RELU => POOL layer set\n",
        "\t\tmodel.add(Conv2D(32, (3, 3), padding=\"same\",\n",
        "\t\t\tinput_shape=inputShape))\n",
        "\t\tmodel.add(Activation(\"relu\"))\n",
        "\t\tmodel.add(BatchNormalization(axis=chanDim))\n",
        "\t\tmodel.add(Conv2D(32, (3, 3), padding=\"same\"))\n",
        "\t\tmodel.add(Activation(\"relu\"))\n",
        "\t\tmodel.add(BatchNormalization(axis=chanDim))\n",
        "\t\tmodel.add(MaxPooling2D(pool_size=(2, 2)))\n",
        "\t\tmodel.add(Dropout(0.25))\n",
        "\n",
        "\t\t# second CONV => RELU => CONV => RELU => POOL layer set\n",
        "\t\tmodel.add(Conv2D(64, (3, 3), padding=\"same\"))\n",
        "\t\tmodel.add(Activation(\"relu\"))\n",
        "\t\tmodel.add(BatchNormalization(axis=chanDim))\n",
        "\t\tmodel.add(Conv2D(64, (3, 3), padding=\"same\"))\n",
        "\t\tmodel.add(Activation(\"relu\"))\n",
        "\t\tmodel.add(BatchNormalization(axis=chanDim))\n",
        "\t\tmodel.add(MaxPooling2D(pool_size=(2, 2)))\n",
        "\t\tmodel.add(Dropout(0.25))\n",
        "\n",
        "\t\t# first (and only) set of FC => RELU layers\n",
        "\t\tmodel.add(Flatten())\n",
        "\t\tmodel.add(Dense(512))\n",
        "\t\tmodel.add(Activation(\"relu\"))\n",
        "\t\tmodel.add(BatchNormalization())\n",
        "\t\tmodel.add(Dropout(0.5))\n",
        "\n",
        "\t\t# softmax classifier\n",
        "\t\tmodel.add(Dense(classes))\n",
        "\t\tmodel.add(Activation(\"softmax\"))\n",
        "\n",
        "\t\t# return the constructed network architecture\n",
        "\t\treturn model"
      ],
      "execution_count": 0,
      "outputs": [
        {
          "output_type": "stream",
          "text": [
            "Using TensorFlow backend.\n"
          ],
          "name": "stderr"
        },
        {
          "output_type": "display_data",
          "data": {
            "text/html": [
              "<p style=\"color: red;\">\n",
              "The default version of TensorFlow in Colab will soon switch to TensorFlow 2.x.<br>\n",
              "We recommend you <a href=\"https://www.tensorflow.org/guide/migrate\" target=\"_blank\">upgrade</a> now \n",
              "or ensure your notebook will continue to use TensorFlow 1.x via the <code>%tensorflow_version 1.x</code> magic:\n",
              "<a href=\"https://colab.research.google.com/notebooks/tensorflow_version.ipynb\" target=\"_blank\">more info</a>.</p>\n"
            ],
            "text/plain": [
              "<IPython.core.display.HTML object>"
            ]
          },
          "metadata": {
            "tags": []
          }
        }
      ]
    },
    {
      "cell_type": "code",
      "metadata": {
        "id": "B63Os7xkrbsz",
        "colab_type": "code",
        "colab": {}
      },
      "source": [
        "# set the matplotlib backend so figures can be saved in the background\n",
        "import matplotlib\n",
        "matplotlib.use(\"Agg\")\n",
        "\n",
        "# import the necessary packages\n",
        "#from pyimagesearch.minivggnet import MiniVGGNet\n",
        "from sklearn.metrics import classification_report\n",
        "from keras.optimizers import SGD\n",
        "from keras.datasets import fashion_mnist\n",
        "from keras.utils import np_utils\n",
        "from keras import backend as K\n",
        "from imutils import build_montages\n",
        "import matplotlib.pyplot as plt\n",
        "import numpy as np\n",
        "from google.colab.patches import cv2_imshow\n",
        "\n",
        "# initialize the number of epochs to train for, base learning rate,\n",
        "# and batch size\n",
        "NUM_EPOCHS = 25\n",
        "INIT_LR = 1e-2\n",
        "BS = 32"
      ],
      "execution_count": 0,
      "outputs": []
    },
    {
      "cell_type": "code",
      "metadata": {
        "id": "ItZbpLIZrehm",
        "colab_type": "code",
        "outputId": "0d7961e2-aeff-4e16-fc67-def41b5bd97c",
        "colab": {
          "base_uri": "https://localhost:8080/",
          "height": 176
        }
      },
      "source": [
        "# grab the Fashion MNIST dataset (if this is your first time running\n",
        "# this the dataset will be automatically downloaded)\n",
        "print(\"[INFO] loading Fashion MNIST...\")\n",
        "((trainX, trainY), (testX, testY)) = fashion_mnist.load_data()\n",
        "\n",
        "# if we are using \"channels first\" ordering, then reshape the design\n",
        "# matrix such that the matrix is:\n",
        "# \tnum_samples x depth x rows x columns\n",
        "if K.image_data_format() == \"channels_first\":\n",
        "\ttrainX = trainX.reshape((trainX.shape[0], 1, 28, 28))\n",
        "\ttestX = testX.reshape((testX.shape[0], 1, 28, 28))\n",
        " \n",
        "# otherwise, we are using \"channels last\" ordering, so the design\n",
        "# matrix shape should be: num_samples x rows x columns x depth\n",
        "else:\n",
        "\ttrainX = trainX.reshape((trainX.shape[0], 28, 28, 1))\n",
        "\ttestX = testX.reshape((testX.shape[0], 28, 28, 1))"
      ],
      "execution_count": 0,
      "outputs": [
        {
          "output_type": "stream",
          "text": [
            "[INFO] loading Fashion MNIST...\n",
            "Downloading data from http://fashion-mnist.s3-website.eu-central-1.amazonaws.com/train-labels-idx1-ubyte.gz\n",
            "32768/29515 [=================================] - 0s 8us/step\n",
            "Downloading data from http://fashion-mnist.s3-website.eu-central-1.amazonaws.com/train-images-idx3-ubyte.gz\n",
            "26427392/26421880 [==============================] - 4s 0us/step\n",
            "Downloading data from http://fashion-mnist.s3-website.eu-central-1.amazonaws.com/t10k-labels-idx1-ubyte.gz\n",
            "8192/5148 [===============================================] - 0s 0us/step\n",
            "Downloading data from http://fashion-mnist.s3-website.eu-central-1.amazonaws.com/t10k-images-idx3-ubyte.gz\n",
            "4423680/4422102 [==============================] - 2s 0us/step\n"
          ],
          "name": "stdout"
        }
      ]
    },
    {
      "cell_type": "code",
      "metadata": {
        "id": "QbLLOPrkrho2",
        "colab_type": "code",
        "colab": {}
      },
      "source": [
        "# scale data to the range of [0, 1]\n",
        "trainX = trainX.astype(\"float32\") / 255.0\n",
        "testX = testX.astype(\"float32\") / 255.0\n",
        "\n",
        "# one-hot encode the training and testing labels\n",
        "trainY = np_utils.to_categorical(trainY, 10)\n",
        "testY = np_utils.to_categorical(testY, 10)\n",
        "\n",
        "# initialize the label names\n",
        "labelNames = [\"top\", \"trouser\", \"pullover\", \"dress\", \"coat\",\n",
        "\t\"sandal\", \"shirt\", \"sneaker\", \"bag\", \"ankle boot\"]"
      ],
      "execution_count": 0,
      "outputs": []
    },
    {
      "cell_type": "code",
      "metadata": {
        "id": "lpChWjWprlhz",
        "colab_type": "code",
        "outputId": "42ed0f91-d0cb-44e5-e1f7-ba78fc95c3b2",
        "colab": {
          "base_uri": "https://localhost:8080/",
          "height": 1000
        }
      },
      "source": [
        "# initialize the optimizer and model\n",
        "print(\"[INFO] compiling model...\")\n",
        "opt = SGD(lr=INIT_LR, momentum=0.9, decay=INIT_LR / NUM_EPOCHS)\n",
        "model = MiniVGGNet.build(width=28, height=28, depth=1, classes=10)\n",
        "model.compile(loss=\"categorical_crossentropy\", optimizer=opt,\n",
        "\tmetrics=[\"accuracy\"])\n",
        "\n",
        "# train the network\n",
        "print(\"[INFO] training model...\")\n",
        "H = model.fit(trainX, trainY,\n",
        "\tvalidation_data=(testX, testY),\n",
        "\tbatch_size=BS, epochs=NUM_EPOCHS)"
      ],
      "execution_count": 0,
      "outputs": [
        {
          "output_type": "stream",
          "text": [
            "[INFO] compiling model...\n",
            "WARNING:tensorflow:From /usr/local/lib/python3.6/dist-packages/keras/backend/tensorflow_backend.py:66: The name tf.get_default_graph is deprecated. Please use tf.compat.v1.get_default_graph instead.\n",
            "\n",
            "WARNING:tensorflow:From /usr/local/lib/python3.6/dist-packages/keras/backend/tensorflow_backend.py:541: The name tf.placeholder is deprecated. Please use tf.compat.v1.placeholder instead.\n",
            "\n",
            "WARNING:tensorflow:From /usr/local/lib/python3.6/dist-packages/keras/backend/tensorflow_backend.py:4432: The name tf.random_uniform is deprecated. Please use tf.random.uniform instead.\n",
            "\n",
            "WARNING:tensorflow:From /usr/local/lib/python3.6/dist-packages/keras/backend/tensorflow_backend.py:190: The name tf.get_default_session is deprecated. Please use tf.compat.v1.get_default_session instead.\n",
            "\n",
            "WARNING:tensorflow:From /usr/local/lib/python3.6/dist-packages/keras/backend/tensorflow_backend.py:197: The name tf.ConfigProto is deprecated. Please use tf.compat.v1.ConfigProto instead.\n",
            "\n",
            "WARNING:tensorflow:From /usr/local/lib/python3.6/dist-packages/keras/backend/tensorflow_backend.py:203: The name tf.Session is deprecated. Please use tf.compat.v1.Session instead.\n",
            "\n",
            "WARNING:tensorflow:From /usr/local/lib/python3.6/dist-packages/keras/backend/tensorflow_backend.py:207: The name tf.global_variables is deprecated. Please use tf.compat.v1.global_variables instead.\n",
            "\n",
            "WARNING:tensorflow:From /usr/local/lib/python3.6/dist-packages/keras/backend/tensorflow_backend.py:216: The name tf.is_variable_initialized is deprecated. Please use tf.compat.v1.is_variable_initialized instead.\n",
            "\n",
            "WARNING:tensorflow:From /usr/local/lib/python3.6/dist-packages/keras/backend/tensorflow_backend.py:223: The name tf.variables_initializer is deprecated. Please use tf.compat.v1.variables_initializer instead.\n",
            "\n",
            "WARNING:tensorflow:From /usr/local/lib/python3.6/dist-packages/keras/backend/tensorflow_backend.py:2041: The name tf.nn.fused_batch_norm is deprecated. Please use tf.compat.v1.nn.fused_batch_norm instead.\n",
            "\n",
            "WARNING:tensorflow:From /usr/local/lib/python3.6/dist-packages/keras/backend/tensorflow_backend.py:148: The name tf.placeholder_with_default is deprecated. Please use tf.compat.v1.placeholder_with_default instead.\n",
            "\n",
            "WARNING:tensorflow:From /usr/local/lib/python3.6/dist-packages/keras/backend/tensorflow_backend.py:4267: The name tf.nn.max_pool is deprecated. Please use tf.nn.max_pool2d instead.\n",
            "\n",
            "WARNING:tensorflow:From /usr/local/lib/python3.6/dist-packages/keras/backend/tensorflow_backend.py:3733: calling dropout (from tensorflow.python.ops.nn_ops) with keep_prob is deprecated and will be removed in a future version.\n",
            "Instructions for updating:\n",
            "Please use `rate` instead of `keep_prob`. Rate should be set to `rate = 1 - keep_prob`.\n",
            "WARNING:tensorflow:From /usr/local/lib/python3.6/dist-packages/keras/optimizers.py:793: The name tf.train.Optimizer is deprecated. Please use tf.compat.v1.train.Optimizer instead.\n",
            "\n",
            "WARNING:tensorflow:From /usr/local/lib/python3.6/dist-packages/keras/backend/tensorflow_backend.py:3576: The name tf.log is deprecated. Please use tf.math.log instead.\n",
            "\n",
            "[INFO] training model...\n",
            "WARNING:tensorflow:From /usr/local/lib/python3.6/dist-packages/tensorflow_core/python/ops/math_grad.py:1424: where (from tensorflow.python.ops.array_ops) is deprecated and will be removed in a future version.\n",
            "Instructions for updating:\n",
            "Use tf.where in 2.0, which has the same broadcast rule as np.where\n",
            "WARNING:tensorflow:From /usr/local/lib/python3.6/dist-packages/keras/backend/tensorflow_backend.py:1033: The name tf.assign_add is deprecated. Please use tf.compat.v1.assign_add instead.\n",
            "\n",
            "WARNING:tensorflow:From /usr/local/lib/python3.6/dist-packages/keras/backend/tensorflow_backend.py:1020: The name tf.assign is deprecated. Please use tf.compat.v1.assign instead.\n",
            "\n",
            "Train on 60000 samples, validate on 10000 samples\n",
            "Epoch 1/25\n",
            "60000/60000 [==============================] - 37s 621us/step - loss: 0.5285 - acc: 0.8221 - val_loss: 0.3207 - val_acc: 0.8836\n",
            "Epoch 2/25\n",
            "60000/60000 [==============================] - 33s 545us/step - loss: 0.3402 - acc: 0.8796 - val_loss: 0.2958 - val_acc: 0.8916\n",
            "Epoch 3/25\n",
            "60000/60000 [==============================] - 32s 538us/step - loss: 0.2868 - acc: 0.8974 - val_loss: 0.2394 - val_acc: 0.9128\n",
            "Epoch 4/25\n",
            "60000/60000 [==============================] - 32s 534us/step - loss: 0.2627 - acc: 0.9048 - val_loss: 0.2423 - val_acc: 0.9092\n",
            "Epoch 5/25\n",
            "60000/60000 [==============================] - 32s 541us/step - loss: 0.2451 - acc: 0.9114 - val_loss: 0.2348 - val_acc: 0.9146\n",
            "Epoch 6/25\n",
            "60000/60000 [==============================] - 32s 541us/step - loss: 0.2326 - acc: 0.9147 - val_loss: 0.2121 - val_acc: 0.9224\n",
            "Epoch 7/25\n",
            "60000/60000 [==============================] - 32s 535us/step - loss: 0.2248 - acc: 0.9188 - val_loss: 0.2091 - val_acc: 0.9245\n",
            "Epoch 8/25\n",
            "60000/60000 [==============================] - 32s 531us/step - loss: 0.2156 - acc: 0.9220 - val_loss: 0.2116 - val_acc: 0.9197\n",
            "Epoch 9/25\n",
            "60000/60000 [==============================] - 33s 543us/step - loss: 0.2125 - acc: 0.9233 - val_loss: 0.1995 - val_acc: 0.9273\n",
            "Epoch 10/25\n",
            "60000/60000 [==============================] - 33s 544us/step - loss: 0.2043 - acc: 0.9267 - val_loss: 0.2087 - val_acc: 0.9227\n",
            "Epoch 11/25\n",
            "60000/60000 [==============================] - 32s 540us/step - loss: 0.2012 - acc: 0.9261 - val_loss: 0.1974 - val_acc: 0.9286\n",
            "Epoch 12/25\n",
            "60000/60000 [==============================] - 32s 531us/step - loss: 0.1970 - acc: 0.9283 - val_loss: 0.1975 - val_acc: 0.9273\n",
            "Epoch 13/25\n",
            "60000/60000 [==============================] - 33s 544us/step - loss: 0.1949 - acc: 0.9284 - val_loss: 0.1932 - val_acc: 0.9311\n",
            "Epoch 14/25\n",
            "60000/60000 [==============================] - 32s 540us/step - loss: 0.1895 - acc: 0.9304 - val_loss: 0.1934 - val_acc: 0.9289\n",
            "Epoch 15/25\n",
            "60000/60000 [==============================] - 32s 540us/step - loss: 0.1901 - acc: 0.9295 - val_loss: 0.1905 - val_acc: 0.9309\n",
            "Epoch 16/25\n",
            "60000/60000 [==============================] - 32s 534us/step - loss: 0.1855 - acc: 0.9311 - val_loss: 0.1887 - val_acc: 0.9334\n",
            "Epoch 17/25\n",
            "60000/60000 [==============================] - 33s 544us/step - loss: 0.1830 - acc: 0.9338 - val_loss: 0.1869 - val_acc: 0.9324\n",
            "Epoch 18/25\n",
            "60000/60000 [==============================] - 33s 543us/step - loss: 0.1809 - acc: 0.9338 - val_loss: 0.1881 - val_acc: 0.9323\n",
            "Epoch 19/25\n",
            "60000/60000 [==============================] - 32s 535us/step - loss: 0.1792 - acc: 0.9348 - val_loss: 0.1861 - val_acc: 0.9336\n",
            "Epoch 20/25\n",
            "60000/60000 [==============================] - 32s 536us/step - loss: 0.1753 - acc: 0.9355 - val_loss: 0.1881 - val_acc: 0.9319\n",
            "Epoch 21/25\n",
            "60000/60000 [==============================] - 33s 551us/step - loss: 0.1743 - acc: 0.9363 - val_loss: 0.1851 - val_acc: 0.9329\n",
            "Epoch 22/25\n",
            "60000/60000 [==============================] - 33s 549us/step - loss: 0.1708 - acc: 0.9369 - val_loss: 0.1866 - val_acc: 0.9324\n",
            "Epoch 23/25\n",
            "60000/60000 [==============================] - 32s 530us/step - loss: 0.1705 - acc: 0.9379 - val_loss: 0.1893 - val_acc: 0.9298\n",
            "Epoch 24/25\n",
            "60000/60000 [==============================] - 32s 533us/step - loss: 0.1687 - acc: 0.9373 - val_loss: 0.1832 - val_acc: 0.9348\n",
            "Epoch 25/25\n",
            "60000/60000 [==============================] - 33s 547us/step - loss: 0.1707 - acc: 0.9371 - val_loss: 0.1848 - val_acc: 0.9334\n"
          ],
          "name": "stdout"
        }
      ]
    },
    {
      "cell_type": "code",
      "metadata": {
        "id": "EvYKQD8rVq5v",
        "colab_type": "code",
        "outputId": "6808c19d-3533-4b2c-8491-0839c221c090",
        "colab": {
          "base_uri": "https://localhost:8080/",
          "height": 35
        }
      },
      "source": [
        "print(keras.__version__)"
      ],
      "execution_count": 0,
      "outputs": [
        {
          "output_type": "stream",
          "text": [
            "2.2.4-tf\n"
          ],
          "name": "stdout"
        }
      ]
    },
    {
      "cell_type": "code",
      "metadata": {
        "id": "YecXbdJjroij",
        "colab_type": "code",
        "outputId": "93019e0c-20b9-4680-b5e1-52e568846183",
        "colab": {
          "base_uri": "https://localhost:8080/",
          "height": 335
        }
      },
      "source": [
        "\n",
        "model.save('moinul_model.h5')\n",
        "\n",
        "from keras.models import load_model\n",
        "model_load = load_model('moinul_model.h5')\n",
        "# make predictions on the test set\n",
        "preds = model_load.predict(testX)\n",
        "\n",
        "# show a nicely formatted classification report\n",
        "print(\"[INFO] evaluating network...\")\n",
        "print(classification_report(testY.argmax(axis=1), preds.argmax(axis=1),\n",
        "\ttarget_names=labelNames))\n",
        "\n",
        "# plot the training loss and accuracy\n",
        "N = NUM_EPOCHS\n",
        "plt.style.use(\"ggplot\")\n",
        "plt.figure()\n",
        "plt.plot(np.arange(0, N), H.history[\"loss\"], label=\"train_loss\")\n",
        "plt.plot(np.arange(0, N), H.history[\"val_loss\"], label=\"val_loss\")\n",
        "plt.plot(np.arange(0, N), H.history[\"acc\"], label=\"train_acc\")\n",
        "plt.plot(np.arange(0, N), H.history[\"val_acc\"], label=\"val_acc\")\n",
        "plt.title(\"Training Loss and Accuracy on Dataset\")\n",
        "plt.xlabel(\"Epoch #\")\n",
        "plt.ylabel(\"Loss/Accuracy\")\n",
        "plt.legend(loc=\"lower left\")\n",
        "plt.savefig(\"plot.png\")"
      ],
      "execution_count": 0,
      "outputs": [
        {
          "output_type": "stream",
          "text": [
            "[INFO] evaluating network...\n",
            "              precision    recall  f1-score   support\n",
            "\n",
            "         top       0.89      0.88      0.88      1000\n",
            "     trouser       0.99      0.99      0.99      1000\n",
            "    pullover       0.91      0.91      0.91      1000\n",
            "       dress       0.92      0.95      0.93      1000\n",
            "        coat       0.90      0.91      0.90      1000\n",
            "      sandal       0.99      0.98      0.99      1000\n",
            "       shirt       0.81      0.79      0.80      1000\n",
            "     sneaker       0.95      0.98      0.97      1000\n",
            "         bag       0.99      0.99      0.99      1000\n",
            "  ankle boot       0.98      0.96      0.97      1000\n",
            "\n",
            "    accuracy                           0.93     10000\n",
            "   macro avg       0.93      0.93      0.93     10000\n",
            "weighted avg       0.93      0.93      0.93     10000\n",
            "\n"
          ],
          "name": "stdout"
        }
      ]
    },
    {
      "cell_type": "code",
      "metadata": {
        "id": "yM6iq6ktrrGz",
        "colab_type": "code",
        "outputId": "6bb00ba8-277f-4f1d-e70a-21dc12e5dba7",
        "colab": {
          "base_uri": "https://localhost:8080/",
          "height": 418
        }
      },
      "source": [
        "# initialize our list of output images\n",
        "import cv2\n",
        "images = []\n",
        "\n",
        "# randomly select a few testing fashion items\n",
        "for i in np.random.choice(np.arange(0, len(testY)), size=(16,)):\n",
        "\t# classify the clothing\n",
        "\tprobs = model.predict(testX[np.newaxis, i])\n",
        "\tprediction = probs.argmax(axis=1)\n",
        "\tlabel = labelNames[prediction[0]]\n",
        " \n",
        "\t# extract the image from the testData if using \"channels_first\"\n",
        "\t# ordering\n",
        "\tif K.image_data_format() == \"channels_first\":\n",
        "\t\timage = (testX[i][0] * 255).astype(\"uint8\")\n",
        " \n",
        "\t# otherwise we are using \"channels_last\" ordering\n",
        "\telse:\n",
        "\t\timage = (testX[i] * 255).astype(\"uint8\")\n",
        "  \n",
        "\t# initialize the text label color as green (correct)\n",
        "\tcolor = (0, 255, 0)\n",
        "\n",
        "\t# otherwise, the class label prediction is incorrect\n",
        "\tif prediction[0] != np.argmax(testY[i]):\n",
        "\t\tcolor = (0, 0, 255)\n",
        " \n",
        "\t# merge the channels into one image and resize the image from\n",
        "\t# 28x28 to 96x96 so we can better see it and then draw the\n",
        "\t# predicted label on the image\n",
        "\timage = cv2.merge([image] * 3)\n",
        "\timage = cv2.resize(image, (96, 96), interpolation=cv2.INTER_LINEAR)\n",
        "\tcv2.putText(image, label, (5, 20), cv2.FONT_HERSHEY_SIMPLEX, 0.75,\n",
        "\t\tcolor, 2)\n",
        "\n",
        "\t# add the image to our list of output images\n",
        "\timages.append(image)\n",
        "\n",
        "# construct the montage for the images\n",
        "montage = build_montages(images, (96, 96), (4, 4))[0]\n",
        "\n",
        "\n",
        "from google.colab.patches import cv2_imshow\n",
        "# show the output montage\n",
        "cv2_imshow( montage)\n",
        "cv2.waitKey(0)"
      ],
      "execution_count": 0,
      "outputs": [
        {
          "output_type": "display_data",
          "data": {
            "image/png": "[encoded data removed]",
            "text/plain": [
              "<PIL.Image.Image image mode=RGB size=384x384 at 0x7FB080AA4198>"
            ]
          },
          "metadata": {
            "tags": []
          }
        },
        {
          "output_type": "execute_result",
          "data": {
            "text/plain": [
              "-1"
            ]
          },
          "metadata": {
            "tags": []
          },
          "execution_count": 18
        }
      ]
    },
    {
      "cell_type": "code",
      "metadata": {
        "id": "EZhRG9EC2uXa",
        "colab_type": "code",
        "outputId": "bad0cdee-6f1f-44f5-8cf2-5875762ca1e8",
        "colab": {
          "base_uri": "https://localhost:8080/",
          "height": 1000
        }
      },
      "source": [
        "from keras.utils import plot_model\n",
        "plot_model(model, to_file='model.png')"
      ],
      "execution_count": 0,
      "outputs": [
        {
          "output_type": "execute_result",
          "data": {
            "image/png": "[encoded data removed]",
            "text/plain": [
              "<IPython.core.display.Image object>"
            ]
          },
          "metadata": {
            "tags": []
          },
          "execution_count": 12
        }
      ]
    },
    {
      "cell_type": "code",
      "metadata": {
        "id": "VrkXeIPAP-bw",
        "colab_type": "code",
        "outputId": "2aa3a160-69d0-401a-c5a9-659b8b6e872f",
        "colab": {
          "base_uri": "https://localhost:8080/",
          "height": 386
        }
      },
      "source": [
        "import pandas as pd\n",
        "from sklearn.metrics import confusion_matrix\n",
        "import seaborn as sns\n",
        "import matplotlib.pyplot as plt\n",
        "Y_prediction = model.predict(testX)\n",
        "# Convert predictions classes to one hot vectors \n",
        "Y_pred_classes = np.argmax(Y_prediction,axis = 1) \n",
        "# Convert validation observations to one hot vectors\n",
        "Y_true = np.argmax(testY,axis = 1) \n",
        "# compute the confusion matrix\n",
        "confusion_mtx = np.array(confusion_matrix(Y_true, Y_pred_classes))\n",
        "\n",
        "df_cm = pd.DataFrame(confusion_mtx, index = [i for i in labelNames ], \n",
        "                     columns = [x for x in labelNames])\n",
        "\n",
        "plt.figure(figsize=(10,7))\n",
        "plt.show()\n",
        "pl = sns.heatmap(df_cm, annot=True)\n",
        "tmp = pl.get_figure()\n",
        "tmp.savefig(\"cm.png\")\n"
      ],
      "execution_count": 0,
      "outputs": [
        {
          "output_type": "error",
          "ename": "ValueError",
          "evalue": "ignored",
          "traceback": [
            "\u001b[0;31m---------------------------------------------------------------------------\u001b[0m",
            "\u001b[0;31mValueError\u001b[0m                                Traceback (most recent call last)",
            "\u001b[0;32m<ipython-input-19-56e1747fa454>\u001b[0m in \u001b[0;36m<module>\u001b[0;34m()\u001b[0m\n\u001b[1;32m      9\u001b[0m \u001b[0mY_true\u001b[0m \u001b[0;34m=\u001b[0m \u001b[0mnp\u001b[0m\u001b[0;34m.\u001b[0m\u001b[0margmax\u001b[0m\u001b[0;34m(\u001b[0m\u001b[0mtestY\u001b[0m\u001b[0;34m,\u001b[0m\u001b[0maxis\u001b[0m \u001b[0;34m=\u001b[0m \u001b[0;36m1\u001b[0m\u001b[0;34m)\u001b[0m\u001b[0;34m\u001b[0m\u001b[0;34m\u001b[0m\u001b[0m\n\u001b[1;32m     10\u001b[0m \u001b[0;31m# compute the confusion matrix\u001b[0m\u001b[0;34m\u001b[0m\u001b[0;34m\u001b[0m\u001b[0;34m\u001b[0m\u001b[0m\n\u001b[0;32m---> 11\u001b[0;31m \u001b[0mconfusion_mtx\u001b[0m \u001b[0;34m=\u001b[0m \u001b[0mnp\u001b[0m\u001b[0;34m.\u001b[0m\u001b[0marray\u001b[0m\u001b[0;34m(\u001b[0m\u001b[0mconfusion_matrix\u001b[0m\u001b[0;34m(\u001b[0m\u001b[0mY_true\u001b[0m\u001b[0;34m,\u001b[0m \u001b[0mY_pred_classes\u001b[0m\u001b[0;34m)\u001b[0m\u001b[0;34m)\u001b[0m\u001b[0;34m\u001b[0m\u001b[0;34m\u001b[0m\u001b[0m\n\u001b[0m\u001b[1;32m     12\u001b[0m \u001b[0;34m\u001b[0m\u001b[0m\n\u001b[1;32m     13\u001b[0m df_cm = pd.DataFrame(confusion_mtx, index = [i for i in labelNames ], \n",
            "\u001b[0;32m/usr/local/lib/python3.6/dist-packages/sklearn/metrics/classification.py\u001b[0m in \u001b[0;36mconfusion_matrix\u001b[0;34m(y_true, y_pred, labels, sample_weight)\u001b[0m\n\u001b[1;32m    251\u001b[0m \u001b[0;34m\u001b[0m\u001b[0m\n\u001b[1;32m    252\u001b[0m     \"\"\"\n\u001b[0;32m--> 253\u001b[0;31m     \u001b[0my_type\u001b[0m\u001b[0;34m,\u001b[0m \u001b[0my_true\u001b[0m\u001b[0;34m,\u001b[0m \u001b[0my_pred\u001b[0m \u001b[0;34m=\u001b[0m \u001b[0m_check_targets\u001b[0m\u001b[0;34m(\u001b[0m\u001b[0my_true\u001b[0m\u001b[0;34m,\u001b[0m \u001b[0my_pred\u001b[0m\u001b[0;34m)\u001b[0m\u001b[0;34m\u001b[0m\u001b[0;34m\u001b[0m\u001b[0m\n\u001b[0m\u001b[1;32m    254\u001b[0m     \u001b[0;32mif\u001b[0m \u001b[0my_type\u001b[0m \u001b[0;32mnot\u001b[0m \u001b[0;32min\u001b[0m \u001b[0;34m(\u001b[0m\u001b[0;34m\"binary\"\u001b[0m\u001b[0;34m,\u001b[0m \u001b[0;34m\"multiclass\"\u001b[0m\u001b[0;34m)\u001b[0m\u001b[0;34m:\u001b[0m\u001b[0;34m\u001b[0m\u001b[0;34m\u001b[0m\u001b[0m\n\u001b[1;32m    255\u001b[0m         \u001b[0;32mraise\u001b[0m \u001b[0mValueError\u001b[0m\u001b[0;34m(\u001b[0m\u001b[0;34m\"%s is not supported\"\u001b[0m \u001b[0;34m%\u001b[0m \u001b[0my_type\u001b[0m\u001b[0;34m)\u001b[0m\u001b[0;34m\u001b[0m\u001b[0;34m\u001b[0m\u001b[0m\n",
            "\u001b[0;32m/usr/local/lib/python3.6/dist-packages/sklearn/metrics/classification.py\u001b[0m in \u001b[0;36m_check_targets\u001b[0;34m(y_true, y_pred)\u001b[0m\n\u001b[1;32m     79\u001b[0m     \u001b[0;32mif\u001b[0m \u001b[0mlen\u001b[0m\u001b[0;34m(\u001b[0m\u001b[0my_type\u001b[0m\u001b[0;34m)\u001b[0m \u001b[0;34m>\u001b[0m \u001b[0;36m1\u001b[0m\u001b[0;34m:\u001b[0m\u001b[0;34m\u001b[0m\u001b[0;34m\u001b[0m\u001b[0m\n\u001b[1;32m     80\u001b[0m         raise ValueError(\"Classification metrics can't handle a mix of {0} \"\n\u001b[0;32m---> 81\u001b[0;31m                          \"and {1} targets\".format(type_true, type_pred))\n\u001b[0m\u001b[1;32m     82\u001b[0m \u001b[0;34m\u001b[0m\u001b[0m\n\u001b[1;32m     83\u001b[0m     \u001b[0;31m# We can't have more than one value on y_type => The set is no more needed\u001b[0m\u001b[0;34m\u001b[0m\u001b[0;34m\u001b[0m\u001b[0;34m\u001b[0m\u001b[0m\n",
            "\u001b[0;31mValueError\u001b[0m: Classification metrics can't handle a mix of multiclass-multioutput and multiclass targets"
          ]
        }
      ]
    },
    {
      "cell_type": "code",
      "metadata": {
        "id": "m8_J5VLNcOuS",
        "colab_type": "code",
        "outputId": "4961e73d-a2cf-4c41-dc03-b7aa7d39d66e",
        "colab": {
          "base_uri": "https://localhost:8080/",
          "height": 168
        }
      },
      "source": [
        "print(confusion_mtx.dtype)"
      ],
      "execution_count": 0,
      "outputs": [
        {
          "output_type": "error",
          "ename": "NameError",
          "evalue": "ignored",
          "traceback": [
            "\u001b[0;31m---------------------------------------------------------------------------\u001b[0m",
            "\u001b[0;31mNameError\u001b[0m                                 Traceback (most recent call last)",
            "\u001b[0;32m<ipython-input-15-5b8ed9c9e33f>\u001b[0m in \u001b[0;36m<module>\u001b[0;34m()\u001b[0m\n\u001b[0;32m----> 1\u001b[0;31m \u001b[0mprint\u001b[0m\u001b[0;34m(\u001b[0m\u001b[0mconfusion_mtx\u001b[0m\u001b[0;34m.\u001b[0m\u001b[0mdtype\u001b[0m\u001b[0;34m)\u001b[0m\u001b[0;34m\u001b[0m\u001b[0;34m\u001b[0m\u001b[0m\n\u001b[0m",
            "\u001b[0;31mNameError\u001b[0m: name 'confusion_mtx' is not defined"
          ]
        }
      ]
    }
  ]
}
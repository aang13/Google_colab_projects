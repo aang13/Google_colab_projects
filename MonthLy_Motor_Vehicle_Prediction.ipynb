{
  "nbformat": 4,
  "nbformat_minor": 0,
  "metadata": {
    "colab": {
      "name": "MonthLy Motor Vehicle Prediction.ipynb",
      "provenance": [],
      "include_colab_link": true
    },
    "kernelspec": {
      "name": "python3",
      "display_name": "Python 3"
    }
  },
  "cells": [
    {
      "cell_type": "markdown",
      "metadata": {
        "id": "view-in-github",
        "colab_type": "text"
      },
      "source": [
        "<a href=\"https://colab.research.google.com/github/aang13/Google_colab_projects/blob/master/MonthLy_Motor_Vehicle_Prediction.ipynb\" target=\"_parent\"><img src=\"https://colab.research.google.com/assets/colab-badge.svg\" alt=\"Open In Colab\"/></a>"
      ]
    },
    {
      "cell_type": "markdown",
      "metadata": {
        "id": "fDCO-L7K_Ty_",
        "colab_type": "text"
      },
      "source": [
        "#Rendering Data"
      ]
    },
    {
      "cell_type": "code",
      "metadata": {
        "id": "lG4xbBAOUtwZ",
        "colab_type": "code",
        "colab": {
          "base_uri": "https://localhost:8080/",
          "height": 35
        },
        "outputId": "df632857-9f7c-44f1-ff03-0e84bafc8325"
      },
      "source": [
        "from google.colab import drive\n",
        "\n",
        "drive.mount('/content/drive')"
      ],
      "execution_count": 7,
      "outputs": [
        {
          "output_type": "stream",
          "text": [
            "Mounted at /content/drive\n"
          ],
          "name": "stdout"
        }
      ]
    },
    {
      "cell_type": "code",
      "metadata": {
        "id": "I9m-7nohc13k",
        "colab_type": "code",
        "colab": {
          "base_uri": "https://localhost:8080/",
          "height": 158
        },
        "outputId": "be0e6419-8125-4b42-acbb-9e32c7102c7b"
      },
      "source": [
        "!ls \"/content/drive/My Drive/Motor Vehicle Prediction\""
      ],
      "execution_count": 22,
      "outputs": [
        {
          "output_type": "stream",
          "text": [
            "'Corporate Price Index _ Basic Classification.xlsm'\n",
            "'Corporate Price Index _ Indices by Demand Stage and Use.xlsm'\n",
            "'corporate service price index.xlsm'\n",
            "'freight and passenger transportation.xlsm'\n",
            "'Machine Order Statistics by Model.xlsm'\n",
            "'Mechanical Sales Orders Statistics _ By Customer.xlsm'\n",
            "'Sales of X Company Products.csv'\n",
            "'Vital Statistics of Specified Service Industries _ Automobile Le.xlsm'\n"
          ],
          "name": "stdout"
        }
      ]
    },
    {
      "cell_type": "code",
      "metadata": {
        "id": "yCg6GPZZW16E",
        "colab_type": "code",
        "colab": {}
      },
      "source": [
        "import pandas as pd\n",
        "# read the files\n",
        "path='/content/drive/My Drive/Motor Vehicle Prediction/'\n",
        "corporatePriceIndexBasicClassification=pd.read_excel(path+'Corporate Price Index _ Basic Classification.xlsm')\n",
        "CorporatePriceIndexIndicesbyDemandStageandUse=pd.read_excel(path+'Corporate Price Index _ Indices by Demand Stage and Use.xlsm')\n",
        "corporateServicePriceIndex=pd.read_excel(path+'corporate service price index.xlsm') # missing\n",
        "FreightAndPassengerTransportation=pd.read_excel(path+'freight and passenger transportation.xlsm')\n",
        "MachineOrderStatisticsByModel=pd.read_excel(path+'Machine Order Statistics by Model.xlsm')\n",
        "MechanicalSalesOrdersStatisticsByCustomer=pd.read_excel(path+'Mechanical Sales Orders Statistics _ By Customer.xlsm')\n",
        "VitalStatisticsOfSpecifiedServiceIndustriesAutomobileLe=pd.read_excel(path+'Vital Statistics of Specified Service Industries _ Automobile Le.xlsm')"
      ],
      "execution_count": 0,
      "outputs": []
    },
    {
      "cell_type": "markdown",
      "metadata": {
        "id": "WhB_gerw_BJ0",
        "colab_type": "text"
      },
      "source": [
        "#DataCleaning\n",
        "https://towardsdatascience.com/data-cleaning-with-python-and-pandas-detecting-missing-values-3e9c6ebcf78b"
      ]
    },
    {
      "cell_type": "code",
      "metadata": {
        "id": "YY6kHG6ozZUd",
        "colab_type": "code",
        "colab": {
          "base_uri": "https://localhost:8080/",
          "height": 35
        },
        "outputId": "7a8ecdce-a199-4fdd-a062-ab9d75c083ec"
      },
      "source": [
        "corporatePriceIndexBasicClassification.isnull().sum().sum()"
      ],
      "execution_count": 64,
      "outputs": [
        {
          "output_type": "execute_result",
          "data": {
            "text/plain": [
              "60"
            ]
          },
          "metadata": {
            "tags": []
          },
          "execution_count": 64
        }
      ]
    },
    {
      "cell_type": "code",
      "metadata": {
        "id": "u1_BR3Mtzd9P",
        "colab_type": "code",
        "colab": {
          "base_uri": "https://localhost:8080/",
          "height": 35
        },
        "outputId": "f6b99de1-d1ac-466b-dbfc-c76c7160a14a"
      },
      "source": [
        "CorporatePriceIndexIndicesbyDemandStageandUse.isnull().sum().sum()"
      ],
      "execution_count": 65,
      "outputs": [
        {
          "output_type": "execute_result",
          "data": {
            "text/plain": [
              "0"
            ]
          },
          "metadata": {
            "tags": []
          },
          "execution_count": 65
        }
      ]
    },
    {
      "cell_type": "code",
      "metadata": {
        "id": "EYjtVz0Fzhhp",
        "colab_type": "code",
        "colab": {
          "base_uri": "https://localhost:8080/",
          "height": 35
        },
        "outputId": "8094eeb9-3fb0-4054-a0c9-a93195626d79"
      },
      "source": [
        "corporateServicePriceIndex.isnull().sum().sum()\n"
      ],
      "execution_count": 66,
      "outputs": [
        {
          "output_type": "execute_result",
          "data": {
            "text/plain": [
              "960"
            ]
          },
          "metadata": {
            "tags": []
          },
          "execution_count": 66
        }
      ]
    },
    {
      "cell_type": "code",
      "metadata": {
        "id": "A8eePmegdWFy",
        "colab_type": "code",
        "colab": {
          "base_uri": "https://localhost:8080/",
          "height": 35
        },
        "outputId": "afe36051-aee4-4118-e3d5-2443e4a7a908"
      },
      "source": [
        "FreightAndPassengerTransportation.isnull().sum().sum()\n"
      ],
      "execution_count": 63,
      "outputs": [
        {
          "output_type": "execute_result",
          "data": {
            "text/plain": [
              "14"
            ]
          },
          "metadata": {
            "tags": []
          },
          "execution_count": 63
        }
      ]
    },
    {
      "cell_type": "code",
      "metadata": {
        "id": "sae_ZusqzjXm",
        "colab_type": "code",
        "colab": {
          "base_uri": "https://localhost:8080/",
          "height": 35
        },
        "outputId": "3b870765-70e8-4e32-f62d-11af7c168188"
      },
      "source": [
        "MachineOrderStatisticsByModel.isnull().sum().sum()"
      ],
      "execution_count": 67,
      "outputs": [
        {
          "output_type": "execute_result",
          "data": {
            "text/plain": [
              "4"
            ]
          },
          "metadata": {
            "tags": []
          },
          "execution_count": 67
        }
      ]
    },
    {
      "cell_type": "code",
      "metadata": {
        "id": "TY0J1_gszuQ2",
        "colab_type": "code",
        "colab": {
          "base_uri": "https://localhost:8080/",
          "height": 35
        },
        "outputId": "40d09199-da44-4586-b763-014debd17eae"
      },
      "source": [
        "MechanicalSalesOrdersStatisticsByCustomer.isnull().sum().sum()"
      ],
      "execution_count": 68,
      "outputs": [
        {
          "output_type": "execute_result",
          "data": {
            "text/plain": [
              "1417"
            ]
          },
          "metadata": {
            "tags": []
          },
          "execution_count": 68
        }
      ]
    },
    {
      "cell_type": "code",
      "metadata": {
        "id": "XgI1zE-kzwHx",
        "colab_type": "code",
        "colab": {
          "base_uri": "https://localhost:8080/",
          "height": 35
        },
        "outputId": "49d05a2c-8fcb-4130-9c44-3d65c183c0a2"
      },
      "source": [
        "VitalStatisticsOfSpecifiedServiceIndustriesAutomobileLe.isnull().sum().sum()"
      ],
      "execution_count": 69,
      "outputs": [
        {
          "output_type": "execute_result",
          "data": {
            "text/plain": [
              "1236"
            ]
          },
          "metadata": {
            "tags": []
          },
          "execution_count": 69
        }
      ]
    },
    {
      "cell_type": "markdown",
      "metadata": {
        "id": "H0iXqpdl_HNC",
        "colab_type": "text"
      },
      "source": [
        "#Handling missing values"
      ]
    },
    {
      "cell_type": "markdown",
      "metadata": {
        "id": "XrV8biuD4Rjz",
        "colab_type": "text"
      },
      "source": [
        "![alt text](https://miro.medium.com/max/1589/1*_RA3mCS30Pr0vUxbp25Yxw.png) \n",
        "\n",
        "https://towardsdatascience.com/how-to-handle-missing-data-8646b18db0d4"
      ]
    }
  ]
}